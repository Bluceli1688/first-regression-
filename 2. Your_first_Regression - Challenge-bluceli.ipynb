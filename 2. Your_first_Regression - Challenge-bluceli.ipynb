{
 "cells": [
  {
   "cell_type": "markdown",
   "metadata": {
    "id": "AgcQ-7-Cmn2w"
   },
   "source": [
    "![Emil](data:image/png;base64,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)"
   ]
  },
  {
   "cell_type": "markdown",
   "metadata": {
    "id": "9_zDf7T0s5sW"
   },
   "source": [
    "#The dataset 🏀\n",
    "\n",
    "The dataset contains statistics of **4000** NBA players, including:\n",
    "\n",
    "- `season`: The season (yearly) the player played in\n",
    "- `poss`: Possessions played\n",
    "- `mp`: Minutes played\n",
    "- `do_ratio`: A player’s ratio of time spent in defense vs. offense; negative values mean more defense positioning\n",
    "- `pacing`: Player impact on team possessions per 48 minutes\n",
    "- `win_rating`: Wins Above Replacement rating, how many additional wins a player is worth over a same-level replacement"
   ]
  },
  {
   "cell_type": "markdown",
   "metadata": {
    "id": "9G_mMGVCmXVP"
   },
   "source": [
    "# Predicting Win Ratings in the NBA\n",
    "\n",
    "You're finally ready to try out **your first ML model**! 🔥\n",
    "\n",
    "\n",
    "Your first regression task of this week is to **predict** the Win Rating of NBA players based on their characteristics.\n",
    "\n",
    "\n",
    "Why is this a regression task?\n",
    "\n"
   ]
  },
  {
   "cell_type": "markdown",
   "metadata": {
    "id": "2HgzO9zziapJ"
   },
   "source": [
    "<details>\n",
    "    <summary>Answer 💡</summary>\n",
    "    \n",
    "Because the Win rating is a continuous feature, as it's on a scale!\n",
    "</details>\n"
   ]
  },
  {
   "cell_type": "markdown",
   "metadata": {
    "id": "spwlATnpnGQn"
   },
   "source": [
    "## Import the data\n",
    "\n",
    "\n",
    "\n",
    "\n",
    "The dataset is available at this link: [https://wagon-public-datasets.s3.amazonaws.com/Machine%20Learning%20Datasets/NBA.csv](https://wagon-public-datasets.s3.amazonaws.com/Machine%20Learning%20Datasets/NBA.csv).\n",
    "\n",
    "\n",
    "Load it into a `df`variable.\n"
   ]
  },
  {
   "cell_type": "markdown",
   "metadata": {
    "id": "kllD6pCaiapK"
   },
   "source": [
    "<details>\n",
    "    <summary>Tips 💯</summary>\n",
    "    \n",
    "You can download the file and upload it to Google Colab, or you can directly but the download link inside the `pd.read_csv()` function!\n",
    "    \n",
    "</details>\n"
   ]
  },
  {
   "cell_type": "code",
   "execution_count": 38,
   "metadata": {
    "ExecuteTime": {
     "end_time": "2024-02-20T00:00:08.879676Z",
     "start_time": "2024-02-20T00:00:08.311994Z"
    },
    "id": "LAHALQZAkp_d"
   },
   "outputs": [
    {
     "name": "stdout",
     "output_type": "stream",
     "text": [
      "   season  poss    mp  do_ratio    pacing  win_rating\n",
      "0    1987  4847  2409 -1.546275 -0.599918    1.643091\n",
      "1    2017  5582  2708  0.996587  0.531888   10.808427\n",
      "2    2016  4976  2407  0.242598  0.127976    3.054773\n",
      "3    2021  1178   585 -1.343806 -1.201034    0.230004\n",
      "4    1988  4534  2056 -1.813990 -0.128997    0.905614\n"
     ]
    }
   ],
   "source": [
    "import pandas as pd\n",
    "file_path = r'C:\\Users\\dell\\Desktop\\NBA.csv'\n",
    "df= pd.read_csv(file_path)\n",
    "print(df.head())\n"
   ]
  },
  {
   "cell_type": "markdown",
   "metadata": {
    "id": "tOnp32HqnXdh"
   },
   "source": [
    "Do you see the **features and target**?"
   ]
  },
  {
   "cell_type": "markdown",
   "metadata": {
    "id": "u0vVlAjgk6Iu",
    "outputId": "588dc2a5-e76e-4fad-948f-35199e1f5574"
   },
   "source": [
    "> **Your answer here (Double Click)**\n",
    "--not, i can't recognise any features and target only from such format data\n"
   ]
  },
  {
   "cell_type": "markdown",
   "metadata": {
    "id": "VFli3BzbiapL"
   },
   "source": [
    "## Simple modelling\n"
   ]
  },
  {
   "cell_type": "markdown",
   "metadata": {
    "id": "Ij8GtwZgngdx"
   },
   "source": [
    "### Define X and y\n",
    "\n",
    "\n",
    "We first need to define our features (X) and our target (y).\n",
    "\n",
    "\n",
    "Let's start off with a simple example - let `X` be **the number of minutes** a player has played.\n",
    "\n",
    "You can figure out what `y` should be from the task we are trying to achieve!\n"
   ]
  },
  {
   "cell_type": "code",
   "execution_count": 43,
   "metadata": {
    "ExecuteTime": {
     "end_time": "2024-02-20T00:00:08.888805Z",
     "start_time": "2024-02-20T00:00:08.882126Z"
    },
    "id": "GxxKBaz8lCk4"
   },
   "outputs": [],
   "source": [
    "X = df[['mp']]\n",
    "y =df['win_rating']\n",
    "# print(X.head())\n",
    "# print(\"--------\")\n",
    "# print(y.head())"
   ]
  },
  {
   "cell_type": "markdown",
   "metadata": {
    "id": "Epbq9sThoz6V"
   },
   "source": [
    "### Train test split\n",
    "\n",
    "\n",
    "Another critical step Machine Learning is the **train, test, split**. \\\n",
    "This is especially important to avoid [data leakage](https://datascientest.com/en/data-leakage-definition-and-prevention).\n",
    "\n",
    "Use Sklearn `train_test_split`function to create **4 variables** `X_train`, `X_test`, `y_train`, `y_test`. \\\n",
    "Have a look at the lecture if you are unsure about the syntax.\n",
    "\n",
    "\n",
    "\n",
    "\n",
    "- Use `random_state=0` to compare your final results with your buddy's results.\n",
    "\n",
    "\n"
   ]
  },
  {
   "cell_type": "code",
   "execution_count": 45,
   "metadata": {
    "ExecuteTime": {
     "end_time": "2024-02-20T00:00:09.174719Z",
     "start_time": "2024-02-20T00:00:08.891956Z"
    },
    "id": "7D4HBchLlW2x"
   },
   "outputs": [],
   "source": [
    "from sklearn.model_selection import train_test_split\n",
    "X_train,X_test,y_train,y_test = train_test_split(X,y,test_size=0.2,random_state=0)\n",
    "# print(\"Training feature shape\",X_train.shape)\n",
    "# print(\"Testing feature shape\",X_test.shape)\n"
   ]
  },
  {
   "cell_type": "markdown",
   "metadata": {
    "id": "jRn8kFzKoX0Q"
   },
   "source": [
    "### Scaling the features\n",
    "\n",
    "\n",
    "\n",
    "We need to scale our numerical feature.\n",
    "\n",
    "Import and instantiate a scaler of your choice from the **Sklearn** library. Then :\n",
    "\n",
    "1. Fit and transform `X_train` and load the results in a `X_train_scaled`variable\n",
    "2. Transform `X_test` and load the results in a `X_test_scaled` variable\n",
    "\n",
    "\n",
    "⚠️  **IMPORTANT!  NEVER** fit the test dataset.\n"
   ]
  },
  {
   "cell_type": "code",
   "execution_count": 47,
   "metadata": {
    "ExecuteTime": {
     "end_time": "2024-02-20T00:00:09.180579Z",
     "start_time": "2024-02-20T00:00:09.175938Z"
    },
    "id": "nH7aL1m8li_O"
   },
   "outputs": [
    {
     "name": "stdout",
     "output_type": "stream",
     "text": [
      "Scaler X test:\n",
      " [[-0.31892301]\n",
      " [ 1.67541223]\n",
      " [ 1.28213491]\n",
      " [ 0.36082789]\n",
      " [ 0.57443536]]\n"
     ]
    }
   ],
   "source": [
    "from sklearn.preprocessing import StandardScaler\n",
    "Scaler = StandardScaler()\n",
    "X_train_scaled = Scaler.fit_transform(X_train)\n",
    "X_test_scaled = Scaler.transform(X_test)\n",
    "# print(\"Scaler train:\\n\",X_train_scaled[:5])\n",
    "print(\"Scaler X test:\\n\",X_test_scaled[:5])"
   ]
  },
  {
   "cell_type": "markdown",
   "metadata": {
    "id": "R2B2ZDc0pTHQ"
   },
   "source": [
    "### Modelling\n",
    "\n",
    "\n",
    "Here come the exciting part!\n",
    "\n",
    "\n",
    "**Linear Regression** is the fundamental regression model in Machine Learning!\n",
    "\n",
    "For now, you don't need to understand the specifics of how it works, just know that it can do regression tasks very easily!\n",
    "\n",
    "Import, instantiate and fit a **LinearRegression** model on the training data!"
   ]
  },
  {
   "cell_type": "code",
   "execution_count": 49,
   "metadata": {
    "ExecuteTime": {
     "end_time": "2024-02-20T00:40:26.743688Z",
     "start_time": "2024-02-20T00:40:26.726710Z"
    },
    "id": "FBdKCa01lt06"
   },
   "outputs": [
    {
     "name": "stdout",
     "output_type": "stream",
     "text": [
      "Model coefficients: [2.58965978]\n",
      "Model intercept: 2.041936225790625\n"
     ]
    }
   ],
   "source": [
    "from sklearn.linear_model import LinearRegression\n",
    "model = LinearRegression()\n",
    "model.fit(X_train_scaled,y_train)\n",
    "print(\"Model coefficients:\",model.coef_)\n",
    "print(\"Model intercept:\",model.intercept_)"
   ]
  },
  {
   "cell_type": "markdown",
   "metadata": {
    "id": "ZEbyDx0JqYHq"
   },
   "source": [
    "### Scoring\n",
    "\n",
    "Let's evaluate the performance of our model. \\\n",
    "Score your fitted model on your **test dataset** and store the result in a variable named `single_score`.\n",
    "\n",
    "\n",
    "\n",
    "You should obtain a score around 54%.\n"
   ]
  },
  {
   "cell_type": "code",
   "execution_count": 51,
   "metadata": {
    "ExecuteTime": {
     "end_time": "2024-02-20T00:00:09.211886Z",
     "start_time": "2024-02-20T00:00:09.208936Z"
    },
    "id": "C8_M3qxbl7x5"
   },
   "outputs": [
    {
     "name": "stdout",
     "output_type": "stream",
     "text": [
      "model performance: 0.5509456884680894\n"
     ]
    }
   ],
   "source": [
    "single_score = model.score(X_test_scaled,y_test)\n",
    "print(\"model performance:\",single_score)"
   ]
  },
  {
   "cell_type": "markdown",
   "metadata": {
    "id": "PN_CUy4Lqi5z"
   },
   "source": [
    "How can we interpret the score?\n",
    "\n",
    "For now, bigger is better (the scale goes up to 1). We'll understand more in depth how to make sense of this when we study Linear Regressions in detail.\n"
   ]
  },
  {
   "cell_type": "markdown",
   "metadata": {
    "id": "Fy2jkzTyqvRk"
   },
   "source": [
    "## A more complete features set\n",
    "\n",
    "It's time to try the **Linear Regression** on all of the relevant features.\n",
    "\n",
    "Create new `X` and `y` variables, using `poss`,`mp`,`do_ratio`and `pacing`as features this time.\n"
   ]
  },
  {
   "cell_type": "code",
   "execution_count": 59,
   "metadata": {
    "ExecuteTime": {
     "end_time": "2024-02-20T00:00:09.216094Z",
     "start_time": "2024-02-20T00:00:09.213201Z"
    },
    "id": "wy-0mzfpl9tQ"
   },
   "outputs": [],
   "source": [
    "X = df[['poss','mp','do_ratio','pacing']]\n",
    "y =df['win_rating']\n"
   ]
  },
  {
   "cell_type": "markdown",
   "metadata": {
    "id": "INjYFBiorD_5"
   },
   "source": [
    "### Train test split\n",
    "\n",
    "\n",
    "Split `X` and `y` as you did before. \\\n",
    "Remember to set `random_state=0` to compare your results with your buddy's.\n"
   ]
  },
  {
   "cell_type": "code",
   "execution_count": 61,
   "metadata": {
    "ExecuteTime": {
     "end_time": "2024-02-20T00:00:09.220337Z",
     "start_time": "2024-02-20T00:00:09.217365Z"
    },
    "id": "Xm3jNf9NmJN9"
   },
   "outputs": [],
   "source": [
    "from sklearn.model_selection import train_test_split\n",
    "X_train,X_test,y_train,y_test = train_test_split(X,y,test_size=0.2,random_state=0)\n"
   ]
  },
  {
   "cell_type": "markdown",
   "metadata": {
    "id": "CjoWYP09q9iC"
   },
   "source": [
    "### Scaling\n",
    "\n",
    "Now it's time to scale the data, just like we did before!"
   ]
  },
  {
   "cell_type": "code",
   "execution_count": 63,
   "metadata": {
    "ExecuteTime": {
     "end_time": "2024-02-20T00:00:09.227434Z",
     "start_time": "2024-02-20T00:00:09.222934Z"
    },
    "id": "eSgiU4RPmLdd"
   },
   "outputs": [],
   "source": [
    "from sklearn.preprocessing import StandardScaler\n",
    "Scaler = StandardScaler()\n",
    "X_train_scaled = Scaler.fit_transform(X_train)\n",
    "X_test_scaled = Scaler.transform(X_test)"
   ]
  },
  {
   "cell_type": "markdown",
   "metadata": {
    "id": "TjZnmk0bsZ41"
   },
   "source": [
    "### A new model\n",
    "\n",
    "Because we have a new set of features, we need to train a new model!\n",
    "\n",
    "Instantiate and train a second model on with your new features.\n"
   ]
  },
  {
   "cell_type": "code",
   "execution_count": 65,
   "metadata": {
    "ExecuteTime": {
     "end_time": "2024-02-20T00:00:09.232762Z",
     "start_time": "2024-02-20T00:00:09.228564Z"
    },
    "id": "uDvnOrUimNe-"
   },
   "outputs": [
    {
     "name": "stdout",
     "output_type": "stream",
     "text": [
      "Model coefficients: [-0.77150627  2.69618374  1.15672277  0.0718331 ]\n",
      "Model intercept: 2.041936225790625\n"
     ]
    }
   ],
   "source": [
    "from sklearn.linear_model import LinearRegression\n",
    "new_model = LinearRegression()\n",
    "new_model.fit(X_train_scaled,y_train)\n",
    "print(\"Model coefficients:\",new_model.coef_)\n",
    "print(\"Model intercept:\",new_model.intercept_)"
   ]
  },
  {
   "cell_type": "markdown",
   "metadata": {
    "id": "KcnrTAPqsmYc"
   },
   "source": [
    "Score your new fitted model, and store the results in a variable named `multiple_score`.\n"
   ]
  },
  {
   "cell_type": "code",
   "execution_count": 67,
   "metadata": {
    "ExecuteTime": {
     "end_time": "2024-02-20T00:02:37.223248Z",
     "start_time": "2024-02-20T00:02:37.210715Z"
    },
    "id": "QnUBpYC6mPdq"
   },
   "outputs": [
    {
     "name": "stdout",
     "output_type": "stream",
     "text": [
      "model performance: 0.6446947826823121\n"
     ]
    }
   ],
   "source": [
    "multiple_score = new_model.score(X_test_scaled,y_test)\n",
    "print(\"model performance:\",multiple_score)\n"
   ]
  },
  {
   "cell_type": "markdown",
   "metadata": {
    "id": "tEfuG_-iiapN"
   },
   "source": [
    "Compare `single_score`and `multiple_score`."
   ]
  },
  {
   "cell_type": "code",
   "execution_count": null,
   "metadata": {
    "id": "g_DrV53ipnC1"
   },
   "outputs": [],
   "source": [
    "single_scoreand from 0.55 obviously increase to 0.64 in multiple_score"
   ]
  },
  {
   "cell_type": "markdown",
   "metadata": {
    "id": "Sq8ASSaqiapN",
    "outputId": "588dc2a5-e76e-4fad-948f-35199e1f5574"
   },
   "source": [
    "> **We can observe a substantial increase of the score when we train a model on many features instead of just one.**\n"
   ]
  },
  {
   "cell_type": "markdown",
   "metadata": {
    "id": "yyXu3CMjs_BA"
   },
   "source": [
    "## A new player arrives!\n",
    "\n",
    "These are his stats:\n",
    "\n",
    "- poss: 4902\n",
    "- mp: 1845\n",
    "- do_ratio: 1.011\n",
    "- pacing: 0.381\n",
    "\n",
    "Create a single row DataFrame for this new player!"
   ]
  },
  {
   "cell_type": "code",
   "execution_count": 75,
   "metadata": {
    "ExecuteTime": {
     "end_time": "2024-02-20T00:05:14.658148Z",
     "start_time": "2024-02-20T00:05:14.637065Z"
    },
    "id": "0oxx3o39taK-"
   },
   "outputs": [
    {
     "name": "stdout",
     "output_type": "stream",
     "text": [
      "   poss    mp  do_ratio  pacing\n",
      "0  4902  1845     1.011   0.381\n"
     ]
    }
   ],
   "source": [
    "import pandas as pd\n",
    "new_player_data = {\n",
    "    \"poss\":[4902],\n",
    "    \"mp\":[1845],\n",
    "    \"do_ratio\":[1.011],\n",
    "    \"pacing\":[0.381]\n",
    "}\n",
    "new_player_df = pd.DataFrame(new_player_data)\n",
    "print(new_player_df)"
   ]
  },
  {
   "cell_type": "markdown",
   "metadata": {
    "id": "1sRDW_5ytvDE"
   },
   "source": [
    "Predict the win rating for this new player!\n"
   ]
  },
  {
   "cell_type": "code",
   "execution_count": 77,
   "metadata": {
    "ExecuteTime": {
     "end_time": "2024-02-20T00:05:53.023195Z",
     "start_time": "2024-02-20T00:05:53.000853Z"
    },
    "id": "mUhHlyCKtj5l"
   },
   "outputs": [
    {
     "name": "stdout",
     "output_type": "stream",
     "text": [
      "predicted winning rate for the new player is:1195.7740110505868\n"
     ]
    },
    {
     "name": "stderr",
     "output_type": "stream",
     "text": [
      "C:\\Users\\dell\\anaconda3\\Lib\\site-packages\\sklearn\\base.py:486: UserWarning: X has feature names, but LinearRegression was fitted without feature names\n",
      "  warnings.warn(\n"
     ]
    }
   ],
   "source": [
    "predicted_rating= new_model.predict(new_player_df)\n",
    "print(f\"predicted winning rate for the new player is:{predicted_rating[0]}\")"
   ]
  },
  {
   "cell_type": "markdown",
   "metadata": {
    "id": "7SyMP3NhuCUc"
   },
   "source": [
    "## What is going on?\n",
    "\n",
    "That's an astronomical win rating! Did'nt we forget to do something?\n",
    "\n",
    "We did... can you figure out what we forgot to do and fix the issue? \\\n",
    "Once you have, you can go on with the prediction!"
   ]
  },
  {
   "cell_type": "code",
   "execution_count": 87,
   "metadata": {
    "ExecuteTime": {
     "end_time": "2024-02-20T00:08:43.684338Z",
     "start_time": "2024-02-20T00:08:43.673328Z"
    },
    "id": "tP1ldMLXuQFy"
   },
   "outputs": [
    {
     "name": "stdout",
     "output_type": "stream",
     "text": [
      "predicted winning rate for the new player is:1195.7740110505868\n"
     ]
    },
    {
     "name": "stderr",
     "output_type": "stream",
     "text": [
      "C:\\Users\\dell\\anaconda3\\Lib\\site-packages\\sklearn\\base.py:486: UserWarning: X has feature names, but LinearRegression was fitted without feature names\n",
      "  warnings.warn(\n"
     ]
    }
   ],
   "source": [
    "from sklearn.preprocessing import StandardScaler\n",
    "new_player_scaled = Scaler.transform(new_player_df)\n",
    "\n",
    "new_predicted_rating= new_model.predict(new_player_scaled)\n",
    "print(f\"predicted winning rate for the new player is:{predicted_rating[0]}\")"
   ]
  },
  {
   "cell_type": "markdown",
   "metadata": {
    "id": "wKhemPyriapO"
   },
   "source": [
    "**Congratulations on training your first regression model!** 🎉\n",
    "\n"
   ]
  }
 ],
 "metadata": {
  "colab": {
   "provenance": []
  },
  "kernelspec": {
   "display_name": "Python 3 (ipykernel)",
   "language": "python",
   "name": "python3"
  },
  "language_info": {
   "codemirror_mode": {
    "name": "ipython",
    "version": 3
   },
   "file_extension": ".py",
   "mimetype": "text/x-python",
   "name": "python",
   "nbconvert_exporter": "python",
   "pygments_lexer": "ipython3",
   "version": "3.12.3"
  },
  "toc": {
   "base_numbering": 1,
   "nav_menu": {},
   "number_sections": true,
   "sideBar": true,
   "skip_h1_title": false,
   "title_cell": "Table of Contents",
   "title_sidebar": "Contents",
   "toc_cell": false,
   "toc_position": {},
   "toc_section_display": true,
   "toc_window_display": false
  }
 },
 "nbformat": 4,
 "nbformat_minor": 4
}
